{
 "cells": [
  {
   "cell_type": "markdown",
   "id": "f2df15d5",
   "metadata": {
    "toc": true
   },
   "source": [
    "<h1>Table of Contents<span class=\"tocSkip\"></span></h1>\n",
    "<div class=\"toc\"><ul class=\"toc-item\"><li><span><a href=\"#Домашнее-Задание-#2\" data-toc-modified-id=\"Домашнее-Задание-#2-1\"><span class=\"toc-item-num\">1&nbsp;&nbsp;</span>Домашнее Задание #2</a></span></li></ul></div>"
   ]
  },
  {
   "cell_type": "markdown",
   "id": "1de54c67",
   "metadata": {},
   "source": [
    "# Домашнее Задание #2\n",
    "+ Собрать информацию о всех строящихся объектах на сайте \"наш.дом.рф\"\n",
    "+ Cохранить ее в pandas dataframe\n",
    "+ Cохранить pandas dataframe в excel\n",
    "+ Cохранить pandas dataframe в pickle\n",
    "+ Cохранить pandas dataframe в БД\n"
   ]
  },
  {
   "cell_type": "code",
   "execution_count": 18,
   "id": "d7643d1c",
   "metadata": {},
   "outputs": [],
   "source": [
    "import requests,math\n",
    "from tqdm.auto import tqdm"
   ]
  },
  {
   "cell_type": "code",
   "execution_count": 31,
   "id": "f6384d57",
   "metadata": {},
   "outputs": [],
   "source": [
    "offset_ = 1 # размер шага\n",
    "limit_ = 1000 # количество объектов в выдаче\n",
    "url = f'https://xn--80az8a.xn--d1aqf.xn--p1ai/%D1%81%D0%B5%D1%80%D0%B2%D0%B8%D1%81%D1%8B/api/kn/object?offset={offset_}&limit={limit_}&sortField=devId.devShortCleanNm&sortType=asc&objStatus=0'"
   ]
  },
  {
   "cell_type": "code",
   "execution_count": 32,
   "id": "9bcf6645",
   "metadata": {
    "scrolled": false
   },
   "outputs": [
    {
     "data": {
      "text/plain": [
       "11693"
      ]
     },
     "execution_count": 32,
     "metadata": {},
     "output_type": "execute_result"
    }
   ],
   "source": [
    "# Отправляем GET запрос в api.hh.ru\n",
    "res = requests.get(url) \n",
    "# Преобразовываем ответ api из JSON в словарь dict()\n",
    "objects_data = res.json()\n",
    "#количество объектов всего\n",
    "objects_data['data']['total']"
   ]
  },
  {
   "cell_type": "code",
   "execution_count": 35,
   "id": "9417ce93",
   "metadata": {},
   "outputs": [
    {
     "data": {
      "text/plain": [
       "12"
      ]
     },
     "execution_count": 35,
     "metadata": {},
     "output_type": "execute_result"
    }
   ],
   "source": [
    "num_pages=math.ceil(objects_data['data']['total']/limit_)\n",
    "num_pages"
   ]
  },
  {
   "cell_type": "code",
   "execution_count": 64,
   "id": "cf97a04c",
   "metadata": {
    "scrolled": false
   },
   "outputs": [
    {
     "data": {
      "application/vnd.jupyter.widget-view+json": {
       "model_id": "5fbf4af4e9474693aa20e1e69ea8035a",
       "version_major": 2,
       "version_minor": 0
      },
      "text/plain": [
       "  0%|          | 0/1500 [00:00<?, ?it/s]"
      ]
     },
     "metadata": {},
     "output_type": "display_data"
    }
   ],
   "source": [
    "# Запускаем цикл для сбора всех идентификаторов объектов со всех страниц\n",
    "all_object_ids= []\n",
    "for offset_ in tqdm(range(1500)):\n",
    "    url = f'https://xn--80az8a.xn--d1aqf.xn--p1ai/%D1%81%D0%B5%D1%80%D0%B2%D0%B8%D1%81%D1%8B/api/kn/object?offset={offset_}&limit={limit_}&sortField=devId.devShortCleanNm&sortType=asc&objStatus=0'\n",
    "    res = requests.get(url)\n",
    "    objects_data = res.json() \n",
    "    objids = [x.get('objId') for x in objects_data.get('data').get('list')]\n",
    "    all_object_ids.extend(objids)"
   ]
  },
  {
   "cell_type": "code",
   "execution_count": 73,
   "id": "3e6033c4",
   "metadata": {},
   "outputs": [
    {
     "data": {
      "text/plain": [
       "2499"
      ]
     },
     "execution_count": 73,
     "metadata": {},
     "output_type": "execute_result"
    }
   ],
   "source": [
    "all_object_ids=set(all_object_ids)\n",
    "len(all_object_ids)"
   ]
  },
  {
   "cell_type": "code",
   "execution_count": 74,
   "id": "fcbad855",
   "metadata": {
    "scrolled": true
   },
   "outputs": [
    {
     "data": {
      "application/vnd.jupyter.widget-view+json": {
       "model_id": "9cd90ee9396d45118bfec341bae8cd60",
       "version_major": 2,
       "version_minor": 0
      },
      "text/plain": [
       "  0%|          | 0/2499 [00:00<?, ?it/s]"
      ]
     },
     "metadata": {},
     "output_type": "display_data"
    }
   ],
   "source": [
    "# Собираем массив с полными описаниями строящихся объектов по идентиф икаторам\n",
    "full_object = []\n",
    "for obj_id in tqdm(all_object_ids):\n",
    "    url = f'https://xn--80az8a.xn--d1aqf.xn--p1ai/%D1%81%D0%B5%D1%80%D0%B2%D0%B8%D1%81%D1%8B/api/object/{obj_id}'\n",
    "    res = requests.get(url)\n",
    "    objects = res.json()\n",
    "    full_object.append(objects)"
   ]
  },
  {
   "cell_type": "code",
   "execution_count": 75,
   "id": "3542f682",
   "metadata": {},
   "outputs": [],
   "source": [
    "# Создаем таблицу DataFrame из всех полученных данных"
   ]
  },
  {
   "cell_type": "code",
   "execution_count": 76,
   "id": "ff9ac25e",
   "metadata": {},
   "outputs": [],
   "source": [
    "import pandas as pd"
   ]
  },
  {
   "cell_type": "code",
   "execution_count": 77,
   "id": "e0dcf3c6",
   "metadata": {},
   "outputs": [],
   "source": [
    "df = pd.json_normalize(full_object)"
   ]
  },
  {
   "cell_type": "code",
   "execution_count": 78,
   "id": "53ea05db",
   "metadata": {},
   "outputs": [
    {
     "data": {
      "text/html": [
       "<div>\n",
       "<style scoped>\n",
       "    .dataframe tbody tr th:only-of-type {\n",
       "        vertical-align: middle;\n",
       "    }\n",
       "\n",
       "    .dataframe tbody tr th {\n",
       "        vertical-align: top;\n",
       "    }\n",
       "\n",
       "    .dataframe thead th {\n",
       "        text-align: right;\n",
       "    }\n",
       "</style>\n",
       "<table border=\"1\" class=\"dataframe\">\n",
       "  <thead>\n",
       "    <tr style=\"text-align: right;\">\n",
       "      <th></th>\n",
       "      <th>errcode</th>\n",
       "      <th>data.id</th>\n",
       "      <th>data.hobjId</th>\n",
       "      <th>data.pdId</th>\n",
       "      <th>data.developer.devId</th>\n",
       "      <th>data.developer.devShortCleanNm</th>\n",
       "      <th>data.developer.devShortNm</th>\n",
       "      <th>data.developer.devFullCleanNm</th>\n",
       "      <th>data.developer.problObjCnt</th>\n",
       "      <th>data.developer.buildObjCnt</th>\n",
       "      <th>...</th>\n",
       "      <th>data.metro.isWalk</th>\n",
       "      <th>data.metro.colors</th>\n",
       "      <th>data.greenAreaIndexValue</th>\n",
       "      <th>data.airQualityIndexValue</th>\n",
       "      <th>data.developer.bankruptStage.bankruptStageCd</th>\n",
       "      <th>data.developer.bankruptStage.bankruptStageDesc</th>\n",
       "      <th>data.developer.bankruptStage.bankruptLawUrl</th>\n",
       "      <th>data.developer.orgBankruptMsgDttm</th>\n",
       "      <th>data.rnvFlg</th>\n",
       "      <th>data.rnvDTO</th>\n",
       "    </tr>\n",
       "  </thead>\n",
       "  <tbody>\n",
       "    <tr>\n",
       "      <th>0</th>\n",
       "      <td>0</td>\n",
       "      <td>49157</td>\n",
       "      <td>129796</td>\n",
       "      <td>656916</td>\n",
       "      <td>14800</td>\n",
       "      <td>АТЛАНТИК</td>\n",
       "      <td>АТЛАНТИК</td>\n",
       "      <td>АТЛАНТИК</td>\n",
       "      <td>0</td>\n",
       "      <td>2</td>\n",
       "      <td>...</td>\n",
       "      <td>NaN</td>\n",
       "      <td>NaN</td>\n",
       "      <td>NaN</td>\n",
       "      <td>NaN</td>\n",
       "      <td>NaN</td>\n",
       "      <td>NaN</td>\n",
       "      <td>NaN</td>\n",
       "      <td>NaN</td>\n",
       "      <td>NaN</td>\n",
       "      <td>NaN</td>\n",
       "    </tr>\n",
       "    <tr>\n",
       "      <th>1</th>\n",
       "      <td>0</td>\n",
       "      <td>49176</td>\n",
       "      <td>129816</td>\n",
       "      <td>602084</td>\n",
       "      <td>14246</td>\n",
       "      <td>СЗ БАКУНИНСКИЙ</td>\n",
       "      <td>СЗ БАКУНИНСКИЙ</td>\n",
       "      <td>СПЕЦИАЛИЗИРОВАННЫЙ ЗАСТРОЙЩИК БАКУНИНСКИЙ</td>\n",
       "      <td>0</td>\n",
       "      <td>2</td>\n",
       "      <td>...</td>\n",
       "      <td>NaN</td>\n",
       "      <td>NaN</td>\n",
       "      <td>NaN</td>\n",
       "      <td>NaN</td>\n",
       "      <td>NaN</td>\n",
       "      <td>NaN</td>\n",
       "      <td>NaN</td>\n",
       "      <td>NaN</td>\n",
       "      <td>NaN</td>\n",
       "      <td>NaN</td>\n",
       "    </tr>\n",
       "    <tr>\n",
       "      <th>2</th>\n",
       "      <td>0</td>\n",
       "      <td>49177</td>\n",
       "      <td>129815</td>\n",
       "      <td>602084</td>\n",
       "      <td>14246</td>\n",
       "      <td>СЗ БАКУНИНСКИЙ</td>\n",
       "      <td>СЗ БАКУНИНСКИЙ</td>\n",
       "      <td>СПЕЦИАЛИЗИРОВАННЫЙ ЗАСТРОЙЩИК БАКУНИНСКИЙ</td>\n",
       "      <td>0</td>\n",
       "      <td>2</td>\n",
       "      <td>...</td>\n",
       "      <td>NaN</td>\n",
       "      <td>NaN</td>\n",
       "      <td>NaN</td>\n",
       "      <td>NaN</td>\n",
       "      <td>NaN</td>\n",
       "      <td>NaN</td>\n",
       "      <td>NaN</td>\n",
       "      <td>NaN</td>\n",
       "      <td>NaN</td>\n",
       "      <td>NaN</td>\n",
       "    </tr>\n",
       "    <tr>\n",
       "      <th>3</th>\n",
       "      <td>0</td>\n",
       "      <td>8224</td>\n",
       "      <td>12514</td>\n",
       "      <td>1570</td>\n",
       "      <td>804</td>\n",
       "      <td>ЗОЛОТАЯ МИЛЯ</td>\n",
       "      <td>ЗОЛОТАЯ МИЛЯ</td>\n",
       "      <td>ЗОЛОТАЯ МИЛЯ</td>\n",
       "      <td>0</td>\n",
       "      <td>4</td>\n",
       "      <td>...</td>\n",
       "      <td>NaN</td>\n",
       "      <td>NaN</td>\n",
       "      <td>NaN</td>\n",
       "      <td>NaN</td>\n",
       "      <td>NaN</td>\n",
       "      <td>NaN</td>\n",
       "      <td>NaN</td>\n",
       "      <td>NaN</td>\n",
       "      <td>NaN</td>\n",
       "      <td>NaN</td>\n",
       "    </tr>\n",
       "    <tr>\n",
       "      <th>4</th>\n",
       "      <td>0</td>\n",
       "      <td>41000</td>\n",
       "      <td>121531</td>\n",
       "      <td>460846</td>\n",
       "      <td>1653</td>\n",
       "      <td>ГК ЖБИ-2</td>\n",
       "      <td>ГК ЖБИ-2</td>\n",
       "      <td>ГРУППА КОМПАНИЙ ЖБИ-2</td>\n",
       "      <td>0</td>\n",
       "      <td>2</td>\n",
       "      <td>...</td>\n",
       "      <td>NaN</td>\n",
       "      <td>NaN</td>\n",
       "      <td>NaN</td>\n",
       "      <td>NaN</td>\n",
       "      <td>NaN</td>\n",
       "      <td>NaN</td>\n",
       "      <td>NaN</td>\n",
       "      <td>NaN</td>\n",
       "      <td>NaN</td>\n",
       "      <td>NaN</td>\n",
       "    </tr>\n",
       "  </tbody>\n",
       "</table>\n",
       "<p>5 rows × 113 columns</p>\n",
       "</div>"
      ],
      "text/plain": [
       "  errcode  data.id  data.hobjId  data.pdId  data.developer.devId  \\\n",
       "0       0    49157       129796     656916                 14800   \n",
       "1       0    49176       129816     602084                 14246   \n",
       "2       0    49177       129815     602084                 14246   \n",
       "3       0     8224        12514       1570                   804   \n",
       "4       0    41000       121531     460846                  1653   \n",
       "\n",
       "  data.developer.devShortCleanNm data.developer.devShortNm  \\\n",
       "0                       АТЛАНТИК                  АТЛАНТИК   \n",
       "1                 СЗ БАКУНИНСКИЙ            СЗ БАКУНИНСКИЙ   \n",
       "2                 СЗ БАКУНИНСКИЙ            СЗ БАКУНИНСКИЙ   \n",
       "3                   ЗОЛОТАЯ МИЛЯ              ЗОЛОТАЯ МИЛЯ   \n",
       "4                       ГК ЖБИ-2                  ГК ЖБИ-2   \n",
       "\n",
       "               data.developer.devFullCleanNm  data.developer.problObjCnt  \\\n",
       "0                                   АТЛАНТИК                           0   \n",
       "1  СПЕЦИАЛИЗИРОВАННЫЙ ЗАСТРОЙЩИК БАКУНИНСКИЙ                           0   \n",
       "2  СПЕЦИАЛИЗИРОВАННЫЙ ЗАСТРОЙЩИК БАКУНИНСКИЙ                           0   \n",
       "3                               ЗОЛОТАЯ МИЛЯ                           0   \n",
       "4                      ГРУППА КОМПАНИЙ ЖБИ-2                           0   \n",
       "\n",
       "   data.developer.buildObjCnt  ...  data.metro.isWalk data.metro.colors  \\\n",
       "0                           2  ...                NaN               NaN   \n",
       "1                           2  ...                NaN               NaN   \n",
       "2                           2  ...                NaN               NaN   \n",
       "3                           4  ...                NaN               NaN   \n",
       "4                           2  ...                NaN               NaN   \n",
       "\n",
       "  data.greenAreaIndexValue data.airQualityIndexValue  \\\n",
       "0                      NaN                       NaN   \n",
       "1                      NaN                       NaN   \n",
       "2                      NaN                       NaN   \n",
       "3                      NaN                       NaN   \n",
       "4                      NaN                       NaN   \n",
       "\n",
       "  data.developer.bankruptStage.bankruptStageCd  \\\n",
       "0                                          NaN   \n",
       "1                                          NaN   \n",
       "2                                          NaN   \n",
       "3                                          NaN   \n",
       "4                                          NaN   \n",
       "\n",
       "  data.developer.bankruptStage.bankruptStageDesc  \\\n",
       "0                                            NaN   \n",
       "1                                            NaN   \n",
       "2                                            NaN   \n",
       "3                                            NaN   \n",
       "4                                            NaN   \n",
       "\n",
       "  data.developer.bankruptStage.bankruptLawUrl  \\\n",
       "0                                         NaN   \n",
       "1                                         NaN   \n",
       "2                                         NaN   \n",
       "3                                         NaN   \n",
       "4                                         NaN   \n",
       "\n",
       "  data.developer.orgBankruptMsgDttm data.rnvFlg data.rnvDTO  \n",
       "0                               NaN         NaN         NaN  \n",
       "1                               NaN         NaN         NaN  \n",
       "2                               NaN         NaN         NaN  \n",
       "3                               NaN         NaN         NaN  \n",
       "4                               NaN         NaN         NaN  \n",
       "\n",
       "[5 rows x 113 columns]"
      ]
     },
     "execution_count": 78,
     "metadata": {},
     "output_type": "execute_result"
    }
   ],
   "source": [
    "df.head()"
   ]
  },
  {
   "cell_type": "code",
   "execution_count": 79,
   "id": "bb6ea4e2",
   "metadata": {},
   "outputs": [
    {
     "data": {
      "text/plain": [
       "(2499, 113)"
      ]
     },
     "execution_count": 79,
     "metadata": {},
     "output_type": "execute_result"
    }
   ],
   "source": [
    "df.shape"
   ]
  },
  {
   "cell_type": "code",
   "execution_count": 80,
   "id": "07280ae9",
   "metadata": {},
   "outputs": [],
   "source": [
    "# Сохраняем в csv файл\n",
    "df.to_csv('object.csv', index=False)\n",
    "# Сохраняем в эксель-файл\n",
    "df.to_excel('object.xlsx', index=False)\n",
    "# Сохраняем в файл в формате pickle\n",
    "df.to_pickle('object.pkl')"
   ]
  },
  {
   "cell_type": "code",
   "execution_count": null,
   "id": "c1c88a32",
   "metadata": {},
   "outputs": [],
   "source": []
  }
 ],
 "metadata": {
  "kernelspec": {
   "display_name": "Python 3 (ipykernel)",
   "language": "python",
   "name": "python3"
  },
  "language_info": {
   "codemirror_mode": {
    "name": "ipython",
    "version": 3
   },
   "file_extension": ".py",
   "mimetype": "text/x-python",
   "name": "python",
   "nbconvert_exporter": "python",
   "pygments_lexer": "ipython3",
   "version": "3.11.5"
  },
  "toc": {
   "base_numbering": 1,
   "nav_menu": {},
   "number_sections": true,
   "sideBar": true,
   "skip_h1_title": false,
   "title_cell": "Table of Contents",
   "title_sidebar": "Contents",
   "toc_cell": true,
   "toc_position": {},
   "toc_section_display": true,
   "toc_window_display": false
  }
 },
 "nbformat": 4,
 "nbformat_minor": 5
}
